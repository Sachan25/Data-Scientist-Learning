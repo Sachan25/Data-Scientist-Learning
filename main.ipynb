{
 "cells": [
  {
   "cell_type": "code",
   "execution_count": null,
   "id": "767a443f",
   "metadata": {},
   "outputs": [],
   "source": [
    "# Write a code to find the minimum among three given numbers.\n",
    "\n",
    "a = input(\"Enter 1st number\")\n",
    "b = input(\"Enter 2nd number\")\n",
    "c = input(\"Enter 3rd number\")\n",
    "if a <= b and a <= c:\n",
    "    print (a)\n",
    "elif b <= c:\n",
    "    print (b)\n",
    "else:\n",
    "    print (c)"
   ]
  },
  {
   "cell_type": "code",
   "execution_count": 35,
   "id": "0b1dbb91",
   "metadata": {},
   "outputs": [
    {
     "name": "stdout",
     "output_type": "stream",
     "text": [
      "Enter a number123\n",
      "Number is not palindrome 123 321\n"
     ]
    }
   ],
   "source": [
    "# Write a code to check whether a given number is a palindrome.\n",
    "import numpy as np\n",
    "\n",
    "lst = []\n",
    "lst = (input(\"Enter a number\"))\n",
    "lst2 = []\n",
    "lst2 = lst[::-1]\n",
    "if lst == lst2:\n",
    "    print (\"Number is palindrome\", lst, lst2)\n",
    "else:\n",
    "    print (\"Number is not palindrome\", lst, lst2)\n"
   ]
  },
  {
   "cell_type": "code",
   "execution_count": 48,
   "id": "1512de7e",
   "metadata": {},
   "outputs": [
    {
     "name": "stdout",
     "output_type": "stream",
     "text": [
      "How many numbers?5\n",
      "Enter Number - 12\n",
      "12\n",
      "Enter Number - 24\n",
      "36\n",
      "Enter Number - 3\n",
      "Number is not divisiable by 4\n",
      "Enter Number - 28\n",
      "64\n",
      "Enter Number - 42\n",
      "Number is not divisiable by 4\n"
     ]
    }
   ],
   "source": [
    "# \"Write a code to find the sum of numbers divisible by 4.The code must allow the user to accept a number and add it to the sum if it is divisible by 4. It should continue accepting numbers as long as the user wants to provide an input and should display the final sum.\"\n",
    "num = int((input (\"How many numbers?\")))\n",
    "b = 0\n",
    "for i in range(num):\n",
    "    a = int(input(\"Enter Number - \"))\n",
    "    if (a%4) == 0:\n",
    "        b = a+b\n",
    "        print (b)\n",
    "    else:\n",
    "        print (\"Number is not divisiable by 4\") \n",
    "\n"
   ]
  },
  {
   "cell_type": "code",
   "execution_count": 20,
   "id": "4580a80c",
   "metadata": {},
   "outputs": [
    {
     "name": "stdout",
     "output_type": "stream",
     "text": [
      "Enter Number - 2562\n",
      "Number is not armstrong 1953\n"
     ]
    }
   ],
   "source": [
    "# A three digit number is said to be an “Armstrong number” if the sum of the third power of its individual digits is equal to the number itself.Write a program to check whether a number is armstrong or not. \n",
    "num1 = (input(\"Enter Number - \"))\n",
    "num_int = int(num1)\n",
    "lngth = len(num1)\n",
    "pwr = 0\n",
    "for i in (num1):\n",
    "    pwr += int(i) ** lngth\n",
    "if num_int == pwr :\n",
    "    print(\"Number is armstrong\", pwr)\n",
    "else:\n",
    "    print(\"Number is not armstrong\", pwr)\n"
   ]
  },
  {
   "cell_type": "code",
   "execution_count": null,
   "id": "a4540a05",
   "metadata": {},
   "outputs": [],
   "source": []
  }
 ],
 "metadata": {
  "kernelspec": {
   "display_name": "Python 3 (ipykernel)",
   "language": "python",
   "name": "python3"
  },
  "language_info": {
   "codemirror_mode": {
    "name": "ipython",
    "version": 3
   },
   "file_extension": ".py",
   "mimetype": "text/x-python",
   "name": "python",
   "nbconvert_exporter": "python",
   "pygments_lexer": "ipython3",
   "version": "3.10.9"
  }
 },
 "nbformat": 4,
 "nbformat_minor": 5
}
