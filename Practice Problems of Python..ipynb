{
 "cells": [
  {
   "cell_type": "markdown",
   "id": "bd75ce40",
   "metadata": {},
   "source": [
    "Write a code to find the minimum among three given numbers.\n"
   ]
  },
  {
   "cell_type": "code",
   "execution_count": 2,
   "id": "f67f5e98",
   "metadata": {},
   "outputs": [
    {
     "name": "stdout",
     "output_type": "stream",
     "text": [
      "Enter a number: 34\n",
      "Enter a number: 1000\n",
      "Enter a number: 56\n",
      "You entered: [34, 1000, 56]\n",
      "1000 is greatest\n"
     ]
    }
   ],
   "source": [
    "import math as mt\n",
    "\n",
    "# Input\n",
    "numbers = []  # Create an empty list to store the numbers\n",
    "\n",
    "for i in range(3):\n",
    "    num = int(input(\"Enter a number: \"))\n",
    "    numbers.append(num)  # Add the entered number to the list\n",
    "\n",
    "print(\"You entered:\", numbers)\n",
    "\n",
    "\n",
    "for i in range(len(numbers)):\n",
    "            if numbers[0] > numbers[1] and numbers[2]:\n",
    "                print(f\"{numbers[0]} is greatest\")\n",
    "                break\n",
    "            elif numbers[1] < numbers[2]:\n",
    "                print(f\"{numbers[2]} is greatest\")\n",
    "                break\n",
    "            else:\n",
    "                print(f\"{numbers[1]} is greatest\")\n",
    "                break\n",
    "                \n",
    "\n",
    "        \n",
    "    "
   ]
  },
  {
   "cell_type": "markdown",
   "id": "c35f63cd",
   "metadata": {},
   "source": [
    "Write a code to check whether a given number is a palindrome.\n"
   ]
  },
  {
   "cell_type": "code",
   "execution_count": 4,
   "id": "2a8197d5",
   "metadata": {},
   "outputs": [
    {
     "name": "stdout",
     "output_type": "stream",
     "text": [
      "Enter a number: 345\n",
      "345 is not a palindrome.\n"
     ]
    }
   ],
   "source": [
    "def is_palindrom(number):\n",
    "    nmb_str = str(number)\n",
    "    return nmb_str == nmb_str[::-1]\n",
    "\n",
    "number = int(input(\"Enter a number: \"))\n",
    "\n",
    "if is_palindrom(number):\n",
    "    print(f\"{number} is a palindrome!\")\n",
    "else:\n",
    "    print(f\"{number} is not a palindrome.\")\n"
   ]
  },
  {
   "cell_type": "markdown",
   "id": "011b082e",
   "metadata": {},
   "source": [
    "Write a code to find the sum of numbers divisible by 4.The code must allow the user to accept a number and add it to the sum if it is divisible by 4. It should continue accepting numbers as long as the user wants to provide an input and should display the final sum.\n"
   ]
  },
  {
   "cell_type": "code",
   "execution_count": 11,
   "id": "3cec0793",
   "metadata": {},
   "outputs": [
    {
     "name": "stdout",
     "output_type": "stream",
     "text": [
      "Enter the total of numbers you would like to add: 4\n",
      "Enter the number: 56\n",
      "Enter the number: 78\n",
      "Enter the number: 90\n",
      "Enter the number: 56\n",
      "Sum is divisible by 4\n"
     ]
    }
   ],
   "source": [
    "def enter_numb():\n",
    "    numbsum = []\n",
    "    total = int(input(\"Enter the total of numbers you would like to add: \"))\n",
    "    for i in range(total):\n",
    "        num = int(input(\"Enter the number: \"))\n",
    "        numbsum.append(num)\n",
    "    sum_of_numb(numbsum)\n",
    "\n",
    "def sum_of_numb(numbsum):\n",
    "    total_sum = 0\n",
    "    for i in range(len(numbsum)):\n",
    "        total_sum += numbsum[i]\n",
    "    check_divisibility(total_sum)\n",
    "\n",
    "def check_divisibility(number):\n",
    "    if number % 4 == 0:\n",
    "        print(\"Sum is divisible by 4\")\n",
    "    else:\n",
    "        print(\"Sum is not divisible by 4\")\n",
    "\n",
    "enter_numb()\n",
    "\n"
   ]
  },
  {
   "cell_type": "markdown",
   "id": "f55342ad",
   "metadata": {},
   "source": [
    "A three digit number is said to be an “Armstrong number” if the sum of the third power of its individual digits is equal to the number itself.Write a program to check whether a number is armstrong or not. \n"
   ]
  },
  {
   "cell_type": "code",
   "execution_count": 13,
   "id": "3f6a0ef3",
   "metadata": {},
   "outputs": [
    {
     "name": "stdout",
     "output_type": "stream",
     "text": [
      "Enter a number: 371\n",
      "371 is an Armstrong number!\n"
     ]
    }
   ],
   "source": [
    "def is_armstrong(number):\n",
    "    num_str = str(number)\n",
    "    n = len(num_str)\n",
    "    sum_of_powers = sum(int(digit) ** n for digit in num_str)\n",
    "    return sum_of_powers == number\n",
    "\n",
    "number = int(input(\"Enter a number: \"))\n",
    "\n",
    "if is_armstrong(number):\n",
    "    print(f\"{number} is an Armstrong number!\")\n",
    "else:\n",
    "    print(f\"{number} is not an Armstrong number.\")\n"
   ]
  },
  {
   "cell_type": "code",
   "execution_count": null,
   "id": "35e807e0",
   "metadata": {},
   "outputs": [],
   "source": []
  }
 ],
 "metadata": {
  "kernelspec": {
   "display_name": "Python 3 (ipykernel)",
   "language": "python",
   "name": "python3"
  },
  "language_info": {
   "codemirror_mode": {
    "name": "ipython",
    "version": 3
   },
   "file_extension": ".py",
   "mimetype": "text/x-python",
   "name": "python",
   "nbconvert_exporter": "python",
   "pygments_lexer": "ipython3",
   "version": "3.10.9"
  }
 },
 "nbformat": 4,
 "nbformat_minor": 5
}
